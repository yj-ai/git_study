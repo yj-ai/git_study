{
  "nbformat": 4,
  "nbformat_minor": 0,
  "metadata": {
    "colab": {
      "provenance": [],
      "authorship_tag": "ABX9TyMlcpQhcEFUBEkAGdvBACXS",
      "include_colab_link": true
    },
    "kernelspec": {
      "name": "python3",
      "display_name": "Python 3"
    },
    "language_info": {
      "name": "python"
    }
  },
  "cells": [
    {
      "cell_type": "markdown",
      "metadata": {
        "id": "view-in-github",
        "colab_type": "text"
      },
      "source": [
        "<a href=\"https://colab.research.google.com/github/yj-ai/git_study/blob/HI/Untitled2.ipynb\" target=\"_parent\"><img src=\"https://colab.research.google.com/assets/colab-badge.svg\" alt=\"Open In Colab\"/></a>"
      ]
    },
    {
      "cell_type": "code",
      "execution_count": null,
      "metadata": {
        "id": "EZRZT21oFYC8"
      },
      "outputs": [],
      "source": [
        "def calculate(int_list, str_list):\n",
        "      for operator in prioritize_operations(str_list):\n",
        "        index = str_list.index(operator)\n",
        "        if operator in {'+', '-', '*', '/'}:\n",
        "            a = int_list[index]\n",
        "            b = int_list[index + 1]\n",
        "            if operator == '+':\n",
        "                result = a + b\n",
        "            elif operator == '-':\n",
        "                result = a - b\n",
        "            elif operator == '*':\n",
        "                result = a * b\n",
        "            elif operator == '/':\n",
        "                result = a / b\n",
        "            int_list[index] = result\n",
        "            str_list.pop(index)\n",
        "            int_list.pop(index + 1)\n",
        "\n",
        "    return int_list[0]\n",
        "\n",
        "result = calculate_values([9, 4, 9], ['+', '*'])\n",
        "print(\"Result:\", result)"
      ]
    }
  ]
}